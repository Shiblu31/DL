{
  "cells": [
    {
      "cell_type": "markdown",
      "metadata": {
        "id": "view-in-github",
        "colab_type": "text"
      },
      "source": [
        "<a href=\"https://colab.research.google.com/github/Shiblu31/DL/blob/main/LSTM_02_cmpsx.ipynb\" target=\"_parent\"><img src=\"https://colab.research.google.com/assets/colab-badge.svg\" alt=\"Open In Colab\"/></a>"
      ]
    },
    {
      "cell_type": "code",
      "execution_count": 33,
      "metadata": {
        "id": "W035C-igXyJa"
      },
      "outputs": [],
      "source": [
        "faqs = \"\"\"About Shiblu\n",
        "What is Shiblu's full name ??\n",
        "Shiblu's full name is Mrithunjoy Das (Shiblu)\n",
        "\n",
        "What is Shiblu's mother name ?\n",
        "Shiblu's name is Lucky Rani Das.\n",
        "\n",
        "How many sibilings Shiblu has ??\n",
        "Shiblu has 6 Sibilings.\n",
        "\n",
        "How many brother and sister  Shiblu has ?\n",
        "Shiblu has 4 brother and 2 sister. name of his twin brother is Soumya and Soumitra . twin sister name is Soumi and Srija.\n",
        "\n",
        "Shiblu school name is Sitakund Govt. model high school. Shiblu college name is Chittagong Cant. public college. Shiblu University name is\n",
        "Comilla University . Shiblu department name is Computer Science & Engineering. Shiblu dream job is MLOPs engineer.\"\"\""
      ]
    },
    {
      "cell_type": "code",
      "execution_count": 34,
      "metadata": {
        "id": "i6_Xy20qbpq-"
      },
      "outputs": [],
      "source": [
        "import tensorflow as tf\n",
        "from tensorflow.keras.preprocessing.text import Tokenizer"
      ]
    },
    {
      "cell_type": "code",
      "source": [
        "tokenizer = Tokenizer()"
      ],
      "metadata": {
        "id": "yuh9dIamHOPE"
      },
      "execution_count": 35,
      "outputs": []
    },
    {
      "cell_type": "code",
      "source": [
        "tokenizer.fit_on_texts([faqs])"
      ],
      "metadata": {
        "id": "kFeHJkjJHUCj"
      },
      "execution_count": 36,
      "outputs": []
    },
    {
      "cell_type": "code",
      "source": [
        "tokenizer.word_index"
      ],
      "metadata": {
        "colab": {
          "base_uri": "https://localhost:8080/"
        },
        "id": "C3AbXR3pHXkT",
        "outputId": "b4585845-a9b9-451a-aea9-85026124ba2c"
      },
      "execution_count": 37,
      "outputs": [
        {
          "output_type": "execute_result",
          "data": {
            "text/plain": [
              "{'shiblu': 1,\n",
              " 'is': 2,\n",
              " 'name': 3,\n",
              " \"shiblu's\": 4,\n",
              " 'has': 5,\n",
              " 'and': 6,\n",
              " 'brother': 7,\n",
              " 'sister': 8,\n",
              " 'what': 9,\n",
              " 'full': 10,\n",
              " 'das': 11,\n",
              " 'how': 12,\n",
              " 'many': 13,\n",
              " 'sibilings': 14,\n",
              " 'twin': 15,\n",
              " 'school': 16,\n",
              " 'college': 17,\n",
              " 'university': 18,\n",
              " 'about': 19,\n",
              " 'mrithunjoy': 20,\n",
              " 'mother': 21,\n",
              " 'lucky': 22,\n",
              " 'rani': 23,\n",
              " '6': 24,\n",
              " '4': 25,\n",
              " '2': 26,\n",
              " 'of': 27,\n",
              " 'his': 28,\n",
              " 'soumya': 29,\n",
              " 'soumitra': 30,\n",
              " 'soumi': 31,\n",
              " 'srija': 32,\n",
              " 'sitakund': 33,\n",
              " 'govt': 34,\n",
              " 'model': 35,\n",
              " 'high': 36,\n",
              " 'chittagong': 37,\n",
              " 'cant': 38,\n",
              " 'public': 39,\n",
              " 'comilla': 40,\n",
              " 'department': 41,\n",
              " 'computer': 42,\n",
              " 'science': 43,\n",
              " 'engineering': 44,\n",
              " 'dream': 45,\n",
              " 'job': 46,\n",
              " 'mlops': 47,\n",
              " 'engineer': 48}"
            ]
          },
          "metadata": {},
          "execution_count": 37
        }
      ]
    },
    {
      "cell_type": "code",
      "source": [
        "input_sequences = []\n",
        "for sentence in faqs.split('\\n'):\n",
        "  tokenized_sentence = tokenizer.texts_to_sequences([sentence])[0]\n",
        "\n",
        "  for i in range(1,len(tokenized_sentence)):\n",
        "    input_sequences.append(tokenized_sentence[:i+1])\n"
      ],
      "metadata": {
        "id": "iY5kINLuISYW"
      },
      "execution_count": 38,
      "outputs": []
    },
    {
      "cell_type": "code",
      "source": [
        "input_sequences"
      ],
      "metadata": {
        "colab": {
          "base_uri": "https://localhost:8080/"
        },
        "id": "mEFkUMVYI-1F",
        "outputId": "b5d52cb9-d2ef-45c0-acf9-f7725ad381ac"
      },
      "execution_count": 39,
      "outputs": [
        {
          "output_type": "execute_result",
          "data": {
            "text/plain": [
              "[[19, 1],\n",
              " [9, 2],\n",
              " [9, 2, 4],\n",
              " [9, 2, 4, 10],\n",
              " [9, 2, 4, 10, 3],\n",
              " [4, 10],\n",
              " [4, 10, 3],\n",
              " [4, 10, 3, 2],\n",
              " [4, 10, 3, 2, 20],\n",
              " [4, 10, 3, 2, 20, 11],\n",
              " [4, 10, 3, 2, 20, 11, 1],\n",
              " [9, 2],\n",
              " [9, 2, 4],\n",
              " [9, 2, 4, 21],\n",
              " [9, 2, 4, 21, 3],\n",
              " [4, 3],\n",
              " [4, 3, 2],\n",
              " [4, 3, 2, 22],\n",
              " [4, 3, 2, 22, 23],\n",
              " [4, 3, 2, 22, 23, 11],\n",
              " [12, 13],\n",
              " [12, 13, 14],\n",
              " [12, 13, 14, 1],\n",
              " [12, 13, 14, 1, 5],\n",
              " [1, 5],\n",
              " [1, 5, 24],\n",
              " [1, 5, 24, 14],\n",
              " [12, 13],\n",
              " [12, 13, 7],\n",
              " [12, 13, 7, 6],\n",
              " [12, 13, 7, 6, 8],\n",
              " [12, 13, 7, 6, 8, 1],\n",
              " [12, 13, 7, 6, 8, 1, 5],\n",
              " [1, 5],\n",
              " [1, 5, 25],\n",
              " [1, 5, 25, 7],\n",
              " [1, 5, 25, 7, 6],\n",
              " [1, 5, 25, 7, 6, 26],\n",
              " [1, 5, 25, 7, 6, 26, 8],\n",
              " [1, 5, 25, 7, 6, 26, 8, 3],\n",
              " [1, 5, 25, 7, 6, 26, 8, 3, 27],\n",
              " [1, 5, 25, 7, 6, 26, 8, 3, 27, 28],\n",
              " [1, 5, 25, 7, 6, 26, 8, 3, 27, 28, 15],\n",
              " [1, 5, 25, 7, 6, 26, 8, 3, 27, 28, 15, 7],\n",
              " [1, 5, 25, 7, 6, 26, 8, 3, 27, 28, 15, 7, 2],\n",
              " [1, 5, 25, 7, 6, 26, 8, 3, 27, 28, 15, 7, 2, 29],\n",
              " [1, 5, 25, 7, 6, 26, 8, 3, 27, 28, 15, 7, 2, 29, 6],\n",
              " [1, 5, 25, 7, 6, 26, 8, 3, 27, 28, 15, 7, 2, 29, 6, 30],\n",
              " [1, 5, 25, 7, 6, 26, 8, 3, 27, 28, 15, 7, 2, 29, 6, 30, 15],\n",
              " [1, 5, 25, 7, 6, 26, 8, 3, 27, 28, 15, 7, 2, 29, 6, 30, 15, 8],\n",
              " [1, 5, 25, 7, 6, 26, 8, 3, 27, 28, 15, 7, 2, 29, 6, 30, 15, 8, 3],\n",
              " [1, 5, 25, 7, 6, 26, 8, 3, 27, 28, 15, 7, 2, 29, 6, 30, 15, 8, 3, 2],\n",
              " [1, 5, 25, 7, 6, 26, 8, 3, 27, 28, 15, 7, 2, 29, 6, 30, 15, 8, 3, 2, 31],\n",
              " [1, 5, 25, 7, 6, 26, 8, 3, 27, 28, 15, 7, 2, 29, 6, 30, 15, 8, 3, 2, 31, 6],\n",
              " [1,\n",
              "  5,\n",
              "  25,\n",
              "  7,\n",
              "  6,\n",
              "  26,\n",
              "  8,\n",
              "  3,\n",
              "  27,\n",
              "  28,\n",
              "  15,\n",
              "  7,\n",
              "  2,\n",
              "  29,\n",
              "  6,\n",
              "  30,\n",
              "  15,\n",
              "  8,\n",
              "  3,\n",
              "  2,\n",
              "  31,\n",
              "  6,\n",
              "  32],\n",
              " [1, 16],\n",
              " [1, 16, 3],\n",
              " [1, 16, 3, 2],\n",
              " [1, 16, 3, 2, 33],\n",
              " [1, 16, 3, 2, 33, 34],\n",
              " [1, 16, 3, 2, 33, 34, 35],\n",
              " [1, 16, 3, 2, 33, 34, 35, 36],\n",
              " [1, 16, 3, 2, 33, 34, 35, 36, 16],\n",
              " [1, 16, 3, 2, 33, 34, 35, 36, 16, 1],\n",
              " [1, 16, 3, 2, 33, 34, 35, 36, 16, 1, 17],\n",
              " [1, 16, 3, 2, 33, 34, 35, 36, 16, 1, 17, 3],\n",
              " [1, 16, 3, 2, 33, 34, 35, 36, 16, 1, 17, 3, 2],\n",
              " [1, 16, 3, 2, 33, 34, 35, 36, 16, 1, 17, 3, 2, 37],\n",
              " [1, 16, 3, 2, 33, 34, 35, 36, 16, 1, 17, 3, 2, 37, 38],\n",
              " [1, 16, 3, 2, 33, 34, 35, 36, 16, 1, 17, 3, 2, 37, 38, 39],\n",
              " [1, 16, 3, 2, 33, 34, 35, 36, 16, 1, 17, 3, 2, 37, 38, 39, 17],\n",
              " [1, 16, 3, 2, 33, 34, 35, 36, 16, 1, 17, 3, 2, 37, 38, 39, 17, 1],\n",
              " [1, 16, 3, 2, 33, 34, 35, 36, 16, 1, 17, 3, 2, 37, 38, 39, 17, 1, 18],\n",
              " [1, 16, 3, 2, 33, 34, 35, 36, 16, 1, 17, 3, 2, 37, 38, 39, 17, 1, 18, 3],\n",
              " [1, 16, 3, 2, 33, 34, 35, 36, 16, 1, 17, 3, 2, 37, 38, 39, 17, 1, 18, 3, 2],\n",
              " [40, 18],\n",
              " [40, 18, 1],\n",
              " [40, 18, 1, 41],\n",
              " [40, 18, 1, 41, 3],\n",
              " [40, 18, 1, 41, 3, 2],\n",
              " [40, 18, 1, 41, 3, 2, 42],\n",
              " [40, 18, 1, 41, 3, 2, 42, 43],\n",
              " [40, 18, 1, 41, 3, 2, 42, 43, 44],\n",
              " [40, 18, 1, 41, 3, 2, 42, 43, 44, 1],\n",
              " [40, 18, 1, 41, 3, 2, 42, 43, 44, 1, 45],\n",
              " [40, 18, 1, 41, 3, 2, 42, 43, 44, 1, 45, 46],\n",
              " [40, 18, 1, 41, 3, 2, 42, 43, 44, 1, 45, 46, 2],\n",
              " [40, 18, 1, 41, 3, 2, 42, 43, 44, 1, 45, 46, 2, 47],\n",
              " [40, 18, 1, 41, 3, 2, 42, 43, 44, 1, 45, 46, 2, 47, 48]]"
            ]
          },
          "metadata": {},
          "execution_count": 39
        }
      ]
    },
    {
      "cell_type": "code",
      "source": [
        "\n",
        "max_len = max([len(x) for x in input_sequences])"
      ],
      "metadata": {
        "id": "d_B1PrvCLkS0"
      },
      "execution_count": 40,
      "outputs": []
    },
    {
      "cell_type": "code",
      "source": [
        "print(max_len)"
      ],
      "metadata": {
        "colab": {
          "base_uri": "https://localhost:8080/"
        },
        "id": "gp46_KxoK9gL",
        "outputId": "992d67c9-60a5-42c5-aab4-19fb40156b32"
      },
      "execution_count": 41,
      "outputs": [
        {
          "output_type": "stream",
          "name": "stdout",
          "text": [
            "23\n"
          ]
        }
      ]
    },
    {
      "cell_type": "code",
      "source": [
        "from tensorflow.keras.preprocessing.sequence import pad_sequences\n",
        "padded_input_sequences = pad_sequences(input_sequences,maxlen = max_len,padding = 'pre')"
      ],
      "metadata": {
        "id": "y-Mqq2xensS6"
      },
      "execution_count": 42,
      "outputs": []
    },
    {
      "cell_type": "code",
      "source": [
        "padded_input_sequences"
      ],
      "metadata": {
        "colab": {
          "base_uri": "https://localhost:8080/"
        },
        "id": "GXVCpKBgoWLw",
        "outputId": "2c1046e5-25ce-4b8c-d8ca-2709880f5bc2"
      },
      "execution_count": 43,
      "outputs": [
        {
          "output_type": "execute_result",
          "data": {
            "text/plain": [
              "array([[ 0,  0,  0, ...,  0, 19,  1],\n",
              "       [ 0,  0,  0, ...,  0,  9,  2],\n",
              "       [ 0,  0,  0, ...,  9,  2,  4],\n",
              "       ...,\n",
              "       [ 0,  0,  0, ..., 45, 46,  2],\n",
              "       [ 0,  0,  0, ..., 46,  2, 47],\n",
              "       [ 0,  0,  0, ...,  2, 47, 48]], dtype=int32)"
            ]
          },
          "metadata": {},
          "execution_count": 43
        }
      ]
    },
    {
      "cell_type": "code",
      "source": [
        "X = padded_input_sequences[:,:-1]\n",
        "y = padded_input_sequences[:,-1]"
      ],
      "metadata": {
        "id": "BKyBKIQVouhO"
      },
      "execution_count": 44,
      "outputs": []
    },
    {
      "cell_type": "code",
      "source": [
        "X.shape"
      ],
      "metadata": {
        "colab": {
          "base_uri": "https://localhost:8080/"
        },
        "id": "E8H-ydRPqo3P",
        "outputId": "4006beec-d0ab-486e-f0f2-9f2e11603c5a"
      },
      "execution_count": 45,
      "outputs": [
        {
          "output_type": "execute_result",
          "data": {
            "text/plain": [
              "(89, 22)"
            ]
          },
          "metadata": {},
          "execution_count": 45
        }
      ]
    },
    {
      "cell_type": "code",
      "source": [
        "y.shape"
      ],
      "metadata": {
        "colab": {
          "base_uri": "https://localhost:8080/"
        },
        "id": "BhmDjYbuqr6E",
        "outputId": "0d114268-1426-487c-b25f-b35910ae94d3"
      },
      "execution_count": 46,
      "outputs": [
        {
          "output_type": "execute_result",
          "data": {
            "text/plain": [
              "(89,)"
            ]
          },
          "metadata": {},
          "execution_count": 46
        }
      ]
    },
    {
      "cell_type": "code",
      "source": [
        "from tensorflow.keras.utils import to_categorical\n",
        "y = to_categorical(y,num_classes = 49)\n",
        "#num_classes  =  unique_word + 1"
      ],
      "metadata": {
        "id": "3-986IVuqtYq"
      },
      "execution_count": 47,
      "outputs": []
    },
    {
      "cell_type": "code",
      "source": [
        "y.shape"
      ],
      "metadata": {
        "colab": {
          "base_uri": "https://localhost:8080/"
        },
        "id": "PehMMx8OuOiv",
        "outputId": "43d7332d-58e6-4021-ec3c-060db97cc11f"
      },
      "execution_count": 48,
      "outputs": [
        {
          "output_type": "execute_result",
          "data": {
            "text/plain": [
              "(89, 49)"
            ]
          },
          "metadata": {},
          "execution_count": 48
        }
      ]
    },
    {
      "cell_type": "code",
      "source": [
        "from tensorflow.keras.models import Sequential\n",
        "from tensorflow.keras.layers import Embedding,LSTM,Dense"
      ],
      "metadata": {
        "id": "YJw_lEr7uSnU"
      },
      "execution_count": 49,
      "outputs": []
    },
    {
      "cell_type": "code",
      "source": [
        "model = Sequential()\n",
        "model.add(Embedding(49, 100, input_length=22))\n",
        "model.add(LSTM(150))\n",
        "\n",
        "model.add(Dense(49, activation='softmax'))\n",
        "#number of unique word = 48\n",
        "#maxlength = 23\n",
        "#input_length = 22"
      ],
      "metadata": {
        "id": "qPJEgPfZu5hu"
      },
      "execution_count": 50,
      "outputs": []
    },
    {
      "cell_type": "code",
      "source": [
        "model.compile(loss = 'categorical_crossentropy', optimizer = 'adam',metrics = ['accuracy'])"
      ],
      "metadata": {
        "id": "jNCAJ-8Nxh0T"
      },
      "execution_count": 51,
      "outputs": []
    },
    {
      "cell_type": "code",
      "source": [
        "model.summary()"
      ],
      "metadata": {
        "colab": {
          "base_uri": "https://localhost:8080/"
        },
        "id": "pR7ZSTumyBmY",
        "outputId": "c84275dc-d9ae-4cb8-b191-a450d247b947"
      },
      "execution_count": 52,
      "outputs": [
        {
          "output_type": "stream",
          "name": "stdout",
          "text": [
            "Model: \"sequential_3\"\n",
            "_________________________________________________________________\n",
            " Layer (type)                Output Shape              Param #   \n",
            "=================================================================\n",
            " embedding_3 (Embedding)     (None, 22, 100)           4900      \n",
            "                                                                 \n",
            " lstm_3 (LSTM)               (None, 150)               150600    \n",
            "                                                                 \n",
            " dense_3 (Dense)             (None, 49)                7399      \n",
            "                                                                 \n",
            "=================================================================\n",
            "Total params: 162899 (636.32 KB)\n",
            "Trainable params: 162899 (636.32 KB)\n",
            "Non-trainable params: 0 (0.00 Byte)\n",
            "_________________________________________________________________\n"
          ]
        }
      ]
    },
    {
      "cell_type": "code",
      "source": [
        "model.fit(X,y,epochs=100)"
      ],
      "metadata": {
        "colab": {
          "base_uri": "https://localhost:8080/"
        },
        "id": "PdsN48DoyE2E",
        "outputId": "09f5a9ed-a4c5-4a22-dc29-9e1775f0903f"
      },
      "execution_count": 53,
      "outputs": [
        {
          "output_type": "stream",
          "name": "stdout",
          "text": [
            "Epoch 1/100\n",
            "3/3 [==============================] - 2s 101ms/step - loss: 3.8915 - accuracy: 0.0225\n",
            "Epoch 2/100\n",
            "3/3 [==============================] - 0s 54ms/step - loss: 3.8642 - accuracy: 0.1461\n",
            "Epoch 3/100\n",
            "3/3 [==============================] - 0s 59ms/step - loss: 3.8231 - accuracy: 0.1348\n",
            "Epoch 4/100\n",
            "3/3 [==============================] - 0s 8ms/step - loss: 3.7138 - accuracy: 0.1236\n",
            "Epoch 5/100\n",
            "3/3 [==============================] - 0s 7ms/step - loss: 3.5451 - accuracy: 0.1124\n",
            "Epoch 6/100\n",
            "3/3 [==============================] - 0s 55ms/step - loss: 3.4904 - accuracy: 0.1124\n",
            "Epoch 7/100\n",
            "3/3 [==============================] - 0s 8ms/step - loss: 3.4327 - accuracy: 0.1236\n",
            "Epoch 8/100\n",
            "3/3 [==============================] - 0s 8ms/step - loss: 3.4255 - accuracy: 0.1236\n",
            "Epoch 9/100\n",
            "3/3 [==============================] - 0s 7ms/step - loss: 3.4156 - accuracy: 0.2022\n",
            "Epoch 10/100\n",
            "3/3 [==============================] - 0s 7ms/step - loss: 3.3956 - accuracy: 0.1461\n",
            "Epoch 11/100\n",
            "3/3 [==============================] - 0s 7ms/step - loss: 3.3754 - accuracy: 0.1573\n",
            "Epoch 12/100\n",
            "3/3 [==============================] - 0s 7ms/step - loss: 3.3473 - accuracy: 0.1685\n",
            "Epoch 13/100\n",
            "3/3 [==============================] - 0s 7ms/step - loss: 3.3324 - accuracy: 0.1573\n",
            "Epoch 14/100\n",
            "3/3 [==============================] - 0s 56ms/step - loss: 3.3168 - accuracy: 0.1798\n",
            "Epoch 15/100\n",
            "3/3 [==============================] - 0s 8ms/step - loss: 3.2839 - accuracy: 0.1910\n",
            "Epoch 16/100\n",
            "3/3 [==============================] - 0s 7ms/step - loss: 3.2514 - accuracy: 0.1348\n",
            "Epoch 17/100\n",
            "3/3 [==============================] - 0s 7ms/step - loss: 3.2175 - accuracy: 0.1236\n",
            "Epoch 18/100\n",
            "3/3 [==============================] - 0s 7ms/step - loss: 3.1629 - accuracy: 0.2247\n",
            "Epoch 19/100\n",
            "3/3 [==============================] - 0s 7ms/step - loss: 3.1202 - accuracy: 0.1461\n",
            "Epoch 20/100\n",
            "3/3 [==============================] - 0s 7ms/step - loss: 3.0522 - accuracy: 0.1798\n",
            "Epoch 21/100\n",
            "3/3 [==============================] - 0s 9ms/step - loss: 3.0200 - accuracy: 0.1798\n",
            "Epoch 22/100\n",
            "3/3 [==============================] - 0s 9ms/step - loss: 2.9280 - accuracy: 0.2360\n",
            "Epoch 23/100\n",
            "3/3 [==============================] - 0s 8ms/step - loss: 2.8830 - accuracy: 0.2472\n",
            "Epoch 24/100\n",
            "3/3 [==============================] - 0s 7ms/step - loss: 2.8298 - accuracy: 0.3258\n",
            "Epoch 25/100\n",
            "3/3 [==============================] - 0s 7ms/step - loss: 2.7604 - accuracy: 0.2697\n",
            "Epoch 26/100\n",
            "3/3 [==============================] - 0s 7ms/step - loss: 2.7083 - accuracy: 0.2584\n",
            "Epoch 27/100\n",
            "3/3 [==============================] - 0s 7ms/step - loss: 2.6518 - accuracy: 0.3034\n",
            "Epoch 28/100\n",
            "3/3 [==============================] - 0s 83ms/step - loss: 2.5909 - accuracy: 0.3034\n",
            "Epoch 29/100\n",
            "3/3 [==============================] - 0s 7ms/step - loss: 2.5790 - accuracy: 0.2697\n",
            "Epoch 30/100\n",
            "3/3 [==============================] - 0s 7ms/step - loss: 2.5380 - accuracy: 0.3371\n",
            "Epoch 31/100\n",
            "3/3 [==============================] - 0s 7ms/step - loss: 2.4298 - accuracy: 0.3708\n",
            "Epoch 32/100\n",
            "3/3 [==============================] - 0s 7ms/step - loss: 2.4013 - accuracy: 0.3371\n",
            "Epoch 33/100\n",
            "3/3 [==============================] - 0s 7ms/step - loss: 2.2935 - accuracy: 0.3820\n",
            "Epoch 34/100\n",
            "3/3 [==============================] - 0s 7ms/step - loss: 2.2523 - accuracy: 0.4045\n",
            "Epoch 35/100\n",
            "3/3 [==============================] - 0s 6ms/step - loss: 2.1617 - accuracy: 0.4045\n",
            "Epoch 36/100\n",
            "3/3 [==============================] - 0s 7ms/step - loss: 2.1150 - accuracy: 0.3933\n",
            "Epoch 37/100\n",
            "3/3 [==============================] - 0s 7ms/step - loss: 2.0499 - accuracy: 0.4494\n",
            "Epoch 38/100\n",
            "3/3 [==============================] - 0s 54ms/step - loss: 1.9777 - accuracy: 0.4944\n",
            "Epoch 39/100\n",
            "3/3 [==============================] - 0s 8ms/step - loss: 1.9136 - accuracy: 0.5281\n",
            "Epoch 40/100\n",
            "3/3 [==============================] - 0s 84ms/step - loss: 1.8428 - accuracy: 0.5618\n",
            "Epoch 41/100\n",
            "3/3 [==============================] - 0s 8ms/step - loss: 1.8111 - accuracy: 0.5281\n",
            "Epoch 42/100\n",
            "3/3 [==============================] - 0s 8ms/step - loss: 1.7436 - accuracy: 0.5618\n",
            "Epoch 43/100\n",
            "3/3 [==============================] - 0s 11ms/step - loss: 1.6988 - accuracy: 0.5843\n",
            "Epoch 44/100\n",
            "3/3 [==============================] - 0s 9ms/step - loss: 1.6145 - accuracy: 0.6067\n",
            "Epoch 45/100\n",
            "3/3 [==============================] - 0s 61ms/step - loss: 1.5707 - accuracy: 0.6180\n",
            "Epoch 46/100\n",
            "3/3 [==============================] - 0s 7ms/step - loss: 1.4990 - accuracy: 0.6292\n",
            "Epoch 47/100\n",
            "3/3 [==============================] - 0s 7ms/step - loss: 1.4614 - accuracy: 0.6742\n",
            "Epoch 48/100\n",
            "3/3 [==============================] - 0s 7ms/step - loss: 1.4389 - accuracy: 0.6966\n",
            "Epoch 49/100\n",
            "3/3 [==============================] - 0s 7ms/step - loss: 1.3839 - accuracy: 0.7191\n",
            "Epoch 50/100\n",
            "3/3 [==============================] - 0s 7ms/step - loss: 1.3469 - accuracy: 0.6966\n",
            "Epoch 51/100\n",
            "3/3 [==============================] - 0s 7ms/step - loss: 1.2956 - accuracy: 0.7640\n",
            "Epoch 52/100\n",
            "3/3 [==============================] - 0s 7ms/step - loss: 1.2425 - accuracy: 0.7640\n",
            "Epoch 53/100\n",
            "3/3 [==============================] - 0s 8ms/step - loss: 1.1975 - accuracy: 0.7303\n",
            "Epoch 54/100\n",
            "3/3 [==============================] - 0s 8ms/step - loss: 1.1511 - accuracy: 0.7753\n",
            "Epoch 55/100\n",
            "3/3 [==============================] - 0s 7ms/step - loss: 1.1222 - accuracy: 0.8315\n",
            "Epoch 56/100\n",
            "3/3 [==============================] - 0s 9ms/step - loss: 1.0866 - accuracy: 0.8090\n",
            "Epoch 57/100\n",
            "3/3 [==============================] - 0s 8ms/step - loss: 1.0509 - accuracy: 0.8539\n",
            "Epoch 58/100\n",
            "3/3 [==============================] - 0s 7ms/step - loss: 1.0040 - accuracy: 0.8315\n",
            "Epoch 59/100\n",
            "3/3 [==============================] - 0s 7ms/step - loss: 0.9589 - accuracy: 0.8764\n",
            "Epoch 60/100\n",
            "3/3 [==============================] - 0s 8ms/step - loss: 0.9374 - accuracy: 0.8876\n",
            "Epoch 61/100\n",
            "3/3 [==============================] - 0s 7ms/step - loss: 0.9075 - accuracy: 0.8764\n",
            "Epoch 62/100\n",
            "3/3 [==============================] - 0s 8ms/step - loss: 0.8874 - accuracy: 0.8539\n",
            "Epoch 63/100\n",
            "3/3 [==============================] - 0s 7ms/step - loss: 0.8484 - accuracy: 0.8989\n",
            "Epoch 64/100\n",
            "3/3 [==============================] - 0s 7ms/step - loss: 0.8128 - accuracy: 0.9101\n",
            "Epoch 65/100\n",
            "3/3 [==============================] - 0s 7ms/step - loss: 0.7825 - accuracy: 0.8989\n",
            "Epoch 66/100\n",
            "3/3 [==============================] - 0s 7ms/step - loss: 0.7566 - accuracy: 0.9213\n",
            "Epoch 67/100\n",
            "3/3 [==============================] - 0s 7ms/step - loss: 0.7252 - accuracy: 0.9101\n",
            "Epoch 68/100\n",
            "3/3 [==============================] - 0s 8ms/step - loss: 0.7062 - accuracy: 0.9101\n",
            "Epoch 69/100\n",
            "3/3 [==============================] - 0s 7ms/step - loss: 0.6792 - accuracy: 0.9101\n",
            "Epoch 70/100\n",
            "3/3 [==============================] - 0s 7ms/step - loss: 0.6578 - accuracy: 0.9326\n",
            "Epoch 71/100\n",
            "3/3 [==============================] - 0s 7ms/step - loss: 0.6348 - accuracy: 0.9101\n",
            "Epoch 72/100\n",
            "3/3 [==============================] - 0s 7ms/step - loss: 0.6163 - accuracy: 0.9213\n",
            "Epoch 73/100\n",
            "3/3 [==============================] - 0s 9ms/step - loss: 0.5935 - accuracy: 0.9213\n",
            "Epoch 74/100\n",
            "3/3 [==============================] - 0s 8ms/step - loss: 0.5775 - accuracy: 0.9326\n",
            "Epoch 75/100\n",
            "3/3 [==============================] - 0s 7ms/step - loss: 0.5601 - accuracy: 0.9326\n",
            "Epoch 76/100\n",
            "3/3 [==============================] - 0s 6ms/step - loss: 0.5429 - accuracy: 0.9213\n",
            "Epoch 77/100\n",
            "3/3 [==============================] - 0s 7ms/step - loss: 0.5261 - accuracy: 0.9326\n",
            "Epoch 78/100\n",
            "3/3 [==============================] - 0s 8ms/step - loss: 0.5180 - accuracy: 0.9213\n",
            "Epoch 79/100\n",
            "3/3 [==============================] - 0s 7ms/step - loss: 0.4964 - accuracy: 0.9326\n",
            "Epoch 80/100\n",
            "3/3 [==============================] - 0s 10ms/step - loss: 0.4843 - accuracy: 0.9326\n",
            "Epoch 81/100\n",
            "3/3 [==============================] - 0s 7ms/step - loss: 0.4706 - accuracy: 0.9326\n",
            "Epoch 82/100\n",
            "3/3 [==============================] - 0s 7ms/step - loss: 0.4540 - accuracy: 0.9326\n",
            "Epoch 83/100\n",
            "3/3 [==============================] - 0s 7ms/step - loss: 0.4386 - accuracy: 0.9438\n",
            "Epoch 84/100\n",
            "3/3 [==============================] - 0s 7ms/step - loss: 0.4318 - accuracy: 0.9438\n",
            "Epoch 85/100\n",
            "3/3 [==============================] - 0s 7ms/step - loss: 0.4183 - accuracy: 0.9438\n",
            "Epoch 86/100\n",
            "3/3 [==============================] - 0s 7ms/step - loss: 0.4049 - accuracy: 0.9438\n",
            "Epoch 87/100\n",
            "3/3 [==============================] - 0s 7ms/step - loss: 0.3959 - accuracy: 0.9326\n",
            "Epoch 88/100\n",
            "3/3 [==============================] - 0s 8ms/step - loss: 0.3848 - accuracy: 0.9326\n",
            "Epoch 89/100\n",
            "3/3 [==============================] - 0s 8ms/step - loss: 0.3729 - accuracy: 0.9438\n",
            "Epoch 90/100\n",
            "3/3 [==============================] - 0s 7ms/step - loss: 0.3680 - accuracy: 0.9438\n",
            "Epoch 91/100\n",
            "3/3 [==============================] - 0s 7ms/step - loss: 0.3579 - accuracy: 0.9438\n",
            "Epoch 92/100\n",
            "3/3 [==============================] - 0s 7ms/step - loss: 0.3479 - accuracy: 0.9438\n",
            "Epoch 93/100\n",
            "3/3 [==============================] - 0s 58ms/step - loss: 0.3411 - accuracy: 0.9438\n",
            "Epoch 94/100\n",
            "3/3 [==============================] - 0s 8ms/step - loss: 0.3330 - accuracy: 0.9438\n",
            "Epoch 95/100\n",
            "3/3 [==============================] - 0s 7ms/step - loss: 0.3237 - accuracy: 0.9326\n",
            "Epoch 96/100\n",
            "3/3 [==============================] - 0s 7ms/step - loss: 0.3173 - accuracy: 0.9326\n",
            "Epoch 97/100\n",
            "3/3 [==============================] - 0s 7ms/step - loss: 0.3087 - accuracy: 0.9438\n",
            "Epoch 98/100\n",
            "3/3 [==============================] - 0s 8ms/step - loss: 0.3045 - accuracy: 0.9438\n",
            "Epoch 99/100\n",
            "3/3 [==============================] - 0s 8ms/step - loss: 0.2948 - accuracy: 0.9438\n",
            "Epoch 100/100\n",
            "3/3 [==============================] - 0s 8ms/step - loss: 0.2930 - accuracy: 0.9438\n"
          ]
        },
        {
          "output_type": "execute_result",
          "data": {
            "text/plain": [
              "<keras.src.callbacks.History at 0x7b4a04e4e860>"
            ]
          },
          "metadata": {},
          "execution_count": 53
        }
      ]
    },
    {
      "cell_type": "code",
      "source": [
        "import numpy as np\n",
        "import time\n",
        "text = \"name of his twin brother is\"\n",
        "\n",
        "for i in range(10):\n",
        "  # tokenize\n",
        "  token_text = tokenizer.texts_to_sequences([text])[0]\n",
        "  # padding\n",
        "  padded_token_text = pad_sequences([token_text], maxlen=22, padding='pre')\n",
        "  # predict\n",
        "  pos = np.argmax(model.predict(padded_token_text))\n",
        "\n",
        "  for word,index in tokenizer.word_index.items():\n",
        "    if index == pos:\n",
        "      text = text + \" \" + word\n",
        "      print(text)\n",
        "      time.sleep(2)"
      ],
      "metadata": {
        "colab": {
          "base_uri": "https://localhost:8080/"
        },
        "id": "7kmkFHuh2UFG",
        "outputId": "20a5a179-d965-456d-9d65-683aee855d3e"
      },
      "execution_count": 54,
      "outputs": [
        {
          "output_type": "stream",
          "name": "stdout",
          "text": [
            "1/1 [==============================] - 0s 464ms/step\n",
            "name of his twin brother is sister\n",
            "1/1 [==============================] - 0s 19ms/step\n",
            "name of his twin brother is sister shiblu\n",
            "1/1 [==============================] - 0s 17ms/step\n",
            "name of his twin brother is sister shiblu has\n",
            "1/1 [==============================] - 0s 19ms/step\n",
            "name of his twin brother is sister shiblu has name\n",
            "1/1 [==============================] - 0s 18ms/step\n",
            "name of his twin brother is sister shiblu has name is\n",
            "1/1 [==============================] - 0s 18ms/step\n",
            "name of his twin brother is sister shiblu has name is his\n",
            "1/1 [==============================] - 0s 27ms/step\n",
            "name of his twin brother is sister shiblu has name is his twin\n",
            "1/1 [==============================] - 0s 18ms/step\n",
            "name of his twin brother is sister shiblu has name is his twin brother\n",
            "1/1 [==============================] - 0s 17ms/step\n",
            "name of his twin brother is sister shiblu has name is his twin brother is\n",
            "1/1 [==============================] - 0s 17ms/step\n",
            "name of his twin brother is sister shiblu has name is his twin brother is soumitra\n"
          ]
        }
      ]
    },
    {
      "cell_type": "code",
      "source": [],
      "metadata": {
        "id": "DzticBgAXgZe"
      },
      "execution_count": 54,
      "outputs": []
    }
  ],
  "metadata": {
    "colab": {
      "provenance": [],
      "gpuType": "T4",
      "authorship_tag": "ABX9TyOuX/WgmzvYQcC0lfNVekQG",
      "include_colab_link": true
    },
    "kernelspec": {
      "display_name": "Python 3",
      "name": "python3"
    },
    "language_info": {
      "name": "python"
    },
    "accelerator": "GPU"
  },
  "nbformat": 4,
  "nbformat_minor": 0
}